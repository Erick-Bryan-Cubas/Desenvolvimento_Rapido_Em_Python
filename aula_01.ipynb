{
  "nbformat": 4,
  "nbformat_minor": 0,
  "metadata": {
    "colab": {
      "provenance": [],
      "authorship_tag": "ABX9TyNFQyKoeitSVemJivaZ2zzW",
      "include_colab_link": true
    },
    "kernelspec": {
      "name": "python3",
      "display_name": "Python 3"
    },
    "language_info": {
      "name": "python"
    }
  },
  "cells": [
    {
      "cell_type": "markdown",
      "metadata": {
        "id": "view-in-github",
        "colab_type": "text"
      },
      "source": [
        "<a href=\"https://colab.research.google.com/github/Erick-Bryan-Cubas/Desenvolvimento_Rapido_Em_Python/blob/main/aula_01.ipynb\" target=\"_parent\"><img src=\"https://colab.research.google.com/assets/colab-badge.svg\" alt=\"Open In Colab\"/></a>"
      ]
    },
    {
      "cell_type": "markdown",
      "source": [
        "# Desenvolvimento Rápido Em Python\n",
        "## Aula 01 - Revisão"
      ],
      "metadata": {
        "id": "_sAL85p7GCwM"
      }
    },
    {
      "cell_type": "code",
      "execution_count": 1,
      "metadata": {
        "colab": {
          "base_uri": "https://localhost:8080/"
        },
        "id": "h4QGgnXtF_C9",
        "outputId": "99510526-b798-4b56-80c6-f1726f9fe308"
      },
      "outputs": [
        {
          "output_type": "stream",
          "name": "stdout",
          "text": [
            "Digite seu nome: Bryan\n",
            "Bryan\n"
          ]
        }
      ],
      "source": [
        "# Entrada e saída de dados\n",
        "nome = input(\"Digite seu nome: \") # Por padrão considera string\n",
        "print(nome)"
      ]
    },
    {
      "cell_type": "code",
      "source": [
        "# Tipos de dados\n",
        "nome = \"João\" # string\n",
        "idade = 32 # inteiro\n",
        "altura = 1.16 # float\n",
        "casado = True # booleano"
      ],
      "metadata": {
        "id": "7InLlen4Iotz"
      },
      "execution_count": null,
      "outputs": []
    },
    {
      "cell_type": "code",
      "source": [
        "# Estrutura de Decisão\n",
        "nome = \"João\" # string\n",
        "idade = 32 # inteiro\n",
        "altura = 1.16 # float\n",
        "casado = True # booleano\n",
        "\n",
        "if(idade < 30):\n",
        "  print(f\"Parabéns {nome}, você ainda é muito jovem, você tem menos que 30 anos!\")\n",
        "elif(idade >= 30 and idade <= 50):\n",
        "  print(f\"Parabéns {nome}, você parece ter mais que 30 anos!\")\n",
        "else:\n",
        "  print(f\"É {nome}, o auge da idade chegou. Agora você passou dos 50. Se cuida!\")"
      ],
      "metadata": {
        "colab": {
          "base_uri": "https://localhost:8080/"
        },
        "id": "VbxC0Co_J0tA",
        "outputId": "8b85c009-c2fb-43dd-d48f-72a4ee61616a"
      },
      "execution_count": 6,
      "outputs": [
        {
          "output_type": "stream",
          "name": "stdout",
          "text": [
            "Parabéns João, você parece ter mais que 30 anos!\n"
          ]
        }
      ]
    },
    {
      "cell_type": "markdown",
      "source": [
        "Há três formas de armazenar dados em python: **tuplas**, **listas** e **dicionários**.\n",
        "\n",
        "**Tuplas** - representadas por parênteses, sua caracterísca é de ser imutável.\n",
        "\n",
        "**Listas** - vetor de dados utilizado por colchetes. Pode ser reorganizada.\n",
        "\n",
        "**Dicionários** - lista bidimensional com valores associados, chave e valor.\n",
        "\n",
        "_Diferenças de objeto e dicionários?_"
      ],
      "metadata": {
        "id": "bcDZNe5rLQ98"
      }
    },
    {
      "cell_type": "code",
      "source": [
        "dados = []\n",
        "\n",
        "nome = input(\"Digite seu nome: \")\n",
        "dados.append(nome)\n",
        "idade = int(input(\"Qual a sua idade? \"))\n",
        "dados.append(idade)\n",
        "altura = float(input(\"Qual a sua altura em metros? \"))\n",
        "dados.append(altura)\n",
        "casado = input(\"Você é casado ou solteiro? (Digite 1 => Solteiro ou Digite 2 => Casado): \")\n",
        "\n",
        "if(casado == \"1\"):\n",
        "  casado = False\n",
        "  dados.append(casado)\n",
        "else:\n",
        "    casado = True\n",
        "    dados.append(casado)\n",
        "\n",
        "for i in dados:\n",
        "  print(i)"
      ],
      "metadata": {
        "colab": {
          "base_uri": "https://localhost:8080/"
        },
        "id": "Lqwm8sk8KX7D",
        "outputId": "d920e358-fc1c-44ee-e44d-2114751cad24"
      },
      "execution_count": 9,
      "outputs": [
        {
          "output_type": "stream",
          "name": "stdout",
          "text": [
            "Digite seu nome: Bryan\n",
            "Qual a sua idade? 23\n",
            "Qual a sua altura em metros? 1.74\n",
            "Você é casado ou solteiro? (Digite 1 => Solteiro ou Digite 2 => Casado): 1\n",
            "Bryan\n",
            "23\n",
            "1.74\n",
            "False\n"
          ]
        }
      ]
    },
    {
      "cell_type": "code",
      "source": [
        "dados = []\n",
        "\n",
        "print(\"Vamos preencher seus dados? \")\n",
        "nome = input(\"Digite seu nome: \")\n",
        "validado = False\n",
        "\n",
        "while(validado == False):\n",
        "  while(len(nome) < 2):\n",
        "    print(\"Esse nome não é aceito!\")\n",
        "    nome = input(\"Digite seu nome com pelo menos duas letras: \")\n",
        "  dados.append(nome)\n",
        "  idade = int(input(\"Qual a sua idade? \"))\n",
        "  dados.append(idade)\n",
        "  altura = float(input(\"Qual a sua altura em metros? \"))\n",
        "  dados.append(altura)\n",
        "  casado = input(\"Você é casado ou solteiro? (Digite 1 => Solteiro ou Digite 2 => Casado): \")\n",
        "\n",
        "  if(casado == \"1\"):\n",
        "    casado = False\n",
        "    dados.append(casado)\n",
        "  elif(casado == \"2\"):\n",
        "      casado = True\n",
        "      dados.append(casado)\n",
        "  else:\n",
        "    validador_casado = False\n",
        "    while(validador_casado == False):\n",
        "      print(\"Esse  valor não é aceito!\")\n",
        "      casado = input(\"Você é casado ou solteiro? (Digite 1 => Solteiro ou Digite 2 => Casado): \")\n",
        "      if(casado == \"1\"):\n",
        "        casado = False\n",
        "        dados.append(casado)\n",
        "      elif(casado == \"2\"):\n",
        "        casado = True\n",
        "        dados.append(casado)\n",
        "\n",
        "validado = True"
      ],
      "metadata": {
        "id": "XkFiwHqBPzcP"
      },
      "execution_count": null,
      "outputs": []
    },
    {
      "cell_type": "markdown",
      "source": [
        "Escreva um programa que recebe e armazena dados do usuário. O programa deve seguir as seguintes regras:\n",
        "\n",
        "- Se for pessoa física(PF):\n",
        "  Nome, CPF, data de admissão na empresa (DD/MM/AAAA), salário médio em R$ dos últimos 3 meses.\n",
        "- Se for pessoa jurídica(PJ):\n",
        "  Nome fantasia, CNPJ, data de criação da empresa (DD/MM/AAAA), faturamento líquido médio em R$ dos últimos 3 meses.\n",
        "Se a pessoa tiver mais de 3 meses de trabalho ou a empresa tiver mais de 15 meses de CNPJ ativo, será liberado um cartão de crédito da conta correspondente (PF ou PJ) com limite de 40% da sua renda/faturamento. Caso contrário o usuário deve retornar após 3 meses para uma nova análise.\n",
        "\n",
        "Observação: A data de comparação deve ser a da máquina. Procure a biblioteca\n",
        "\n",
        "\n"
      ],
      "metadata": {
        "id": "pFQx1kQASI8z"
      }
    },
    {
      "cell_type": "code",
      "source": [],
      "metadata": {
        "id": "0hlnvFElSHLl"
      },
      "execution_count": null,
      "outputs": []
    }
  ]
}