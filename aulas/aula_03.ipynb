{
  "nbformat": 4,
  "nbformat_minor": 0,
  "metadata": {
    "colab": {
      "provenance": [],
      "authorship_tag": "ABX9TyPCmUCxGuRR3fBTuCcbTY9r",
      "include_colab_link": true
    },
    "kernelspec": {
      "name": "python3",
      "display_name": "Python 3"
    },
    "language_info": {
      "name": "python"
    }
  },
  "cells": [
    {
      "cell_type": "markdown",
      "metadata": {
        "id": "view-in-github",
        "colab_type": "text"
      },
      "source": [
        "<a href=\"https://colab.research.google.com/github/Erick-Bryan-Cubas/Desenvolvimento_Rapido_Em_Python/blob/main/aulas/aula_03.ipynb\" target=\"_parent\"><img src=\"https://colab.research.google.com/assets/colab-badge.svg\" alt=\"Open In Colab\"/></a>"
      ]
    },
    {
      "cell_type": "markdown",
      "source": [
        "# Leitura e Escrita em Arquivos"
      ],
      "metadata": {
        "id": "C-M1laN8goXz"
      }
    },
    {
      "cell_type": "code",
      "execution_count": 3,
      "metadata": {
        "colab": {
          "base_uri": "https://localhost:8080/"
        },
        "id": "sk9FNlscgkLV",
        "outputId": "eadacae0-485c-4279-97ba-e8e54721d4f9"
      },
      "outputs": [
        {
          "output_type": "stream",
          "name": "stdout",
          "text": [
            "Criando uma nova pasta\n",
            "Checando se a pasta já existe \n",
            "novaPasta.exists(): False\n",
            "Criando nova pasta\n"
          ]
        }
      ],
      "source": [
        "from pathlib import Path\n",
        "\n",
        "pasta = Path.cwd()\n",
        "print('Criando uma nova pasta')\n",
        "novaPasta = pasta / 'teste'\n",
        "print('Checando se a pasta já existe ')\n",
        "print('novaPasta.exists():', novaPasta.exists())\n",
        "print('Criando nova pasta')\n",
        "novaPasta.mkdir()\n"
      ]
    }
  ]
}