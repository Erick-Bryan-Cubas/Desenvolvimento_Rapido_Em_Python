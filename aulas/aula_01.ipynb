{
  "cells": [
    {
      "cell_type": "markdown",
      "metadata": {
        "colab_type": "text",
        "id": "view-in-github"
      },
      "source": [
        "<a href=\"https://colab.research.google.com/github/Erick-Bryan-Cubas/Desenvolvimento_Rapido_Em_Python/blob/main/aula_01.ipynb\" target=\"_parent\"><img src=\"https://colab.research.google.com/assets/colab-badge.svg\" alt=\"Open In Colab\"/></a>"
      ]
    },
    {
      "cell_type": "markdown",
      "metadata": {
        "id": "_sAL85p7GCwM"
      },
      "source": [
        "# Desenvolvimento Rápido Em Python\n",
        "## Aula 01 - Revisão"
      ]
    },
    {
      "cell_type": "code",
      "execution_count": 1,
      "metadata": {
        "colab": {
          "base_uri": "https://localhost:8080/"
        },
        "id": "h4QGgnXtF_C9",
        "outputId": "99510526-b798-4b56-80c6-f1726f9fe308"
      },
      "outputs": [
        {
          "name": "stdout",
          "output_type": "stream",
          "text": [
            "Digite seu nome: Bryan\n",
            "Bryan\n"
          ]
        }
      ],
      "source": [
        "# Entrada e saída de dados\n",
        "nome = input(\"Digite seu nome: \") # Por padrão considera string\n",
        "print(nome)"
      ]
    },
    {
      "cell_type": "code",
      "execution_count": null,
      "metadata": {
        "id": "7InLlen4Iotz"
      },
      "outputs": [],
      "source": [
        "# Tipos de dados\n",
        "nome = \"João\" # string\n",
        "idade = 32 # inteiro\n",
        "altura = 1.16 # float\n",
        "casado = True # booleano"
      ]
    },
    {
      "cell_type": "code",
      "execution_count": 6,
      "metadata": {
        "colab": {
          "base_uri": "https://localhost:8080/"
        },
        "id": "VbxC0Co_J0tA",
        "outputId": "8b85c009-c2fb-43dd-d48f-72a4ee61616a"
      },
      "outputs": [
        {
          "name": "stdout",
          "output_type": "stream",
          "text": [
            "Parabéns João, você parece ter mais que 30 anos!\n"
          ]
        }
      ],
      "source": [
        "# Estrutura de Decisão\n",
        "nome = \"João\" # string\n",
        "idade = 32 # inteiro\n",
        "altura = 1.16 # float\n",
        "casado = True # booleano\n",
        "\n",
        "if(idade < 30):\n",
        "  print(f\"Parabéns {nome}, você ainda é muito jovem, você tem menos que 30 anos!\")\n",
        "elif(idade >= 30 and idade <= 50):\n",
        "  print(f\"Parabéns {nome}, você parece ter mais que 30 anos!\")\n",
        "else:\n",
        "  print(f\"É {nome}, o auge da idade chegou. Agora você passou dos 50. Se cuida!\")"
      ]
    },
    {
      "cell_type": "markdown",
      "metadata": {
        "id": "bcDZNe5rLQ98"
      },
      "source": [
        "Há três formas de armazenar dados em python: **tuplas**, **listas** e **dicionários**.\n",
        "\n",
        "**Tuplas** - representadas por parênteses, sua caracterísca é de ser imutável.\n",
        "\n",
        "**Listas** - vetor de dados utilizado por colchetes. Pode ser reorganizada.\n",
        "\n",
        "**Dicionários** - lista bidimensional com valores associados, chave e valor.\n",
        "\n",
        "_Diferenças de objeto e dicionários?_"
      ]
    },
    {
      "cell_type": "code",
      "execution_count": 9,
      "metadata": {
        "colab": {
          "base_uri": "https://localhost:8080/"
        },
        "id": "Lqwm8sk8KX7D",
        "outputId": "d920e358-fc1c-44ee-e44d-2114751cad24"
      },
      "outputs": [
        {
          "name": "stdout",
          "output_type": "stream",
          "text": [
            "Digite seu nome: Bryan\n",
            "Qual a sua idade? 23\n",
            "Qual a sua altura em metros? 1.74\n",
            "Você é casado ou solteiro? (Digite 1 => Solteiro ou Digite 2 => Casado): 1\n",
            "Bryan\n",
            "23\n",
            "1.74\n",
            "False\n"
          ]
        }
      ],
      "source": [
        "dados = []\n",
        "\n",
        "nome = input(\"Digite seu nome: \")\n",
        "dados.append(nome)\n",
        "idade = int(input(\"Qual a sua idade? \"))\n",
        "dados.append(idade)\n",
        "altura = float(input(\"Qual a sua altura em metros? \"))\n",
        "dados.append(altura)\n",
        "casado = input(\"Você é casado ou solteiro? (Digite 1 => Solteiro ou Digite 2 => Casado): \")\n",
        "\n",
        "if(casado == \"1\"):\n",
        "  casado = False\n",
        "  dados.append(casado)\n",
        "else:\n",
        "    casado = True\n",
        "    dados.append(casado)\n",
        "\n",
        "for i in dados:\n",
        "  print(i)"
      ]
    },
    {
      "cell_type": "code",
      "execution_count": null,
      "metadata": {
        "id": "XkFiwHqBPzcP"
      },
      "outputs": [],
      "source": [
        "dados = []\n",
        "\n",
        "print(\"Vamos preencher seus dados? \")\n",
        "nome = input(\"Digite seu nome: \")\n",
        "validado = False\n",
        "\n",
        "while(validado == False):\n",
        "  while(len(nome) < 2):\n",
        "    print(\"Esse nome não é aceito!\")\n",
        "    nome = input(\"Digite seu nome com pelo menos duas letras: \")\n",
        "  dados.append(nome)\n",
        "  idade = int(input(\"Qual a sua idade? \"))\n",
        "  dados.append(idade)\n",
        "  altura = float(input(\"Qual a sua altura em metros? \"))\n",
        "  dados.append(altura)\n",
        "  casado = input(\"Você é casado ou solteiro? (Digite 1 => Solteiro ou Digite 2 => Casado): \")\n",
        "\n",
        "  if(casado == \"1\"):\n",
        "    casado = False\n",
        "    dados.append(casado)\n",
        "  elif(casado == \"2\"):\n",
        "      casado = True\n",
        "      dados.append(casado)\n",
        "  else:\n",
        "    validador_casado = False\n",
        "    while(validador_casado == False):\n",
        "      print(\"Esse  valor não é aceito!\")\n",
        "      casado = input(\"Você é casado ou solteiro? (Digite 1 => Solteiro ou Digite 2 => Casado): \")\n",
        "      if(casado == \"1\"):\n",
        "        casado = False\n",
        "        dados.append(casado)\n",
        "      elif(casado == \"2\"):\n",
        "        casado = True\n",
        "        dados.append(casado)\n",
        "\n",
        "validado = True"
      ]
    },
    {
      "cell_type": "markdown",
      "metadata": {
        "id": "pFQx1kQASI8z"
      },
      "source": [
        "Escreva um programa que recebe e armazena dados do usuário. O programa deve seguir as seguintes regras:\n",
        "\n",
        "- Se for pessoa física(PF):\n",
        "  Nome, CPF, data de admissão na empresa (DD/MM/AAAA), salário médio em R$ dos últimos 3 meses.\n",
        "- Se for pessoa jurídica(PJ):\n",
        "  Nome fantasia, CNPJ, data de criação da empresa (DD/MM/AAAA), faturamento líquido médio em R$ dos últimos 3 meses.\n",
        "Se a pessoa tiver mais de 3 meses de trabalho ou a empresa tiver mais de 15 meses de CNPJ ativo, será liberado um cartão de crédito da conta correspondente (PF ou PJ) com limite de 40% da sua renda/faturamento. Caso contrário o usuário deve retornar após 3 meses para uma nova análise.\n",
        "\n",
        "Observação: A data de comparação deve ser a da máquina. Procure a biblioteca\n",
        "\n",
        "\n"
      ]
    },
    {
      "cell_type": "code",
      "execution_count": 5,
      "metadata": {
        "id": "0hlnvFElSHLl"
      },
      "outputs": [
        {
          "name": "stdout",
          "output_type": "stream",
          "text": [
            "Seja-bem vindo ao ONCRED\n"
          ]
        }
      ],
      "source": [
        "import os\n",
        "import datetime\n",
        "\n",
        "print(\"Seja-bem vindo ao ONCRED\")\n",
        "usuario = input(\"Por gentileza, informe seu nome: \")\n",
        "if(len(usuario)< 4):\n",
        "  usuario = input(\"O nome deve ser maior que 4 caracteres, digite novamente: \")\n",
        "\n",
        "\n",
        "tipo_pessoa =  int(input(f\"{usuario.upper()}, informe se é pessoa física (PF) ou jurídica!: Digite 1 para PF e 2 para PJ\"))\n",
        "\n",
        "if(tipo_pessoa == 1):\n",
        "  tipo_pessoa = False\n",
        "  validador_tipo_pf = int(input(f\"\"\"{usuario.upper()}, selecionou TIPO PESSOA FÍSICA, tem certeza da seleção?\n",
        "                            \\n se sim, digite 1(um) para prosseguir e 0(zero) para voltar  \"\"\"))\n",
        "  if(validador_tipo_pf == 1):\n",
        "    print(\"TIPO PESSOA FÍSICA selecionada e confirmada!\")\n",
        "    \n",
        "    tempo_colab_empresa = input(f\"{usuario.upper}, informe a data de admissão ONCORP (dd/mm/aaaa):\\n\")\n",
        "    \n",
        "    data_admissao = datetime.strptime(tempo_colab_empresa, '%d/%m/%Y %H:%M')\n",
        "    print(data_admissao)\n",
        "    \n",
        "    \n",
        "  \n",
        "  \n",
        "  \n",
        "\n"
      ]
    }
  ],
  "metadata": {
    "colab": {
      "authorship_tag": "ABX9TyNFQyKoeitSVemJivaZ2zzW",
      "include_colab_link": true,
      "provenance": []
    },
    "kernelspec": {
      "display_name": "Python 3",
      "name": "python3"
    },
    "language_info": {
      "codemirror_mode": {
        "name": "ipython",
        "version": 3
      },
      "file_extension": ".py",
      "mimetype": "text/x-python",
      "name": "python",
      "nbconvert_exporter": "python",
      "pygments_lexer": "ipython3",
      "version": "3.11.4"
    }
  },
  "nbformat": 4,
  "nbformat_minor": 0
}
