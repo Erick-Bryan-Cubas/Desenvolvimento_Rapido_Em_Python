{
  "nbformat": 4,
  "nbformat_minor": 0,
  "metadata": {
    "colab": {
      "provenance": [],
      "authorship_tag": "ABX9TyOG6HbXTxHjSC/lD19lACCC",
      "include_colab_link": true
    },
    "kernelspec": {
      "name": "python3",
      "display_name": "Python 3"
    },
    "language_info": {
      "name": "python"
    }
  },
  "cells": [
    {
      "cell_type": "markdown",
      "metadata": {
        "id": "view-in-github",
        "colab_type": "text"
      },
      "source": [
        "<a href=\"https://colab.research.google.com/github/Erick-Bryan-Cubas/Desenvolvimento_Rapido_Em_Python/blob/main/aulas/aula_02_py.ipynb\" target=\"_parent\"><img src=\"https://colab.research.google.com/assets/colab-badge.svg\" alt=\"Open In Colab\"/></a>"
      ]
    },
    {
      "cell_type": "markdown",
      "source": [
        "# Desenvolvimento Rápido Em Python\n",
        "\n",
        "## Aula 02 - Dicionários\n",
        "\n",
        "_Dicionários_ são um conjunto de dados compostos. Com item, sendo um par de **chave** e **valor**.\n",
        "\n"
      ],
      "metadata": {
        "id": "VfVkDn9vMEGp"
      }
    },
    {
      "cell_type": "code",
      "execution_count": 3,
      "metadata": {
        "id": "RXiZeAJ_L3Gw",
        "colab": {
          "base_uri": "https://localhost:8080/"
        },
        "outputId": "dcc231dd-c963-4e3b-b4f4-b912891ece58"
      },
      "outputs": [
        {
          "output_type": "stream",
          "name": "stdout",
          "text": [
            "dict_values(['João', 15])\n",
            "dict_keys(['nome', 'Idade'])\n",
            "dict_items([('nome', 'João'), ('Idade', 15)])\n"
          ]
        }
      ],
      "source": [
        "# Mostrar valores\n",
        "dados = {\"nome\": \"João\", \"Idade\":15}\n",
        "print(dados.values())\n",
        "\n",
        "# Mostrar chaves\n",
        "dados = {\"nome\": \"João\", \"Idade\":15}\n",
        "print(dados.keys())\n",
        "\n",
        "# Mostrar itens\n",
        "dados = {\"nome\": \"João\", \"Idade\":15}\n",
        "print(dados.items())\n"
      ]
    },
    {
      "cell_type": "code",
      "source": [
        "dados = {\"nome\": \"João\", \"Idade\":15, \"curso\":\"ADS\"}\n",
        "for k, v in dados.items():\n",
        "  print(f\"{k} é {v}\")"
      ],
      "metadata": {
        "id": "GF9pwkCFVOEU",
        "outputId": "e2a867df-84ae-479b-cf12-fcf4aa4157bc",
        "colab": {
          "base_uri": "https://localhost:8080/"
        }
      },
      "execution_count": 5,
      "outputs": [
        {
          "output_type": "stream",
          "name": "stdout",
          "text": [
            "nome é João\n",
            "Idade é 15\n",
            "curso é ADS\n"
          ]
        }
      ]
    },
    {
      "cell_type": "markdown",
      "source": [
        "### Dicionários dentro de listas\n"
      ],
      "metadata": {
        "id": "HLg4y7onWH2x"
      }
    },
    {
      "cell_type": "code",
      "source": [
        "jogo1 = {\"Título1\":\"Bloodborne\", \"Ano\":2015, \"Console\":\"Playstation 4\"}\n",
        "\n",
        "\n",
        "locadora = []\n",
        "locadora.append(jogo1)\n",
        "\n",
        "for i in locadora:\n",
        "  print(i)"
      ],
      "metadata": {
        "id": "2SMqscZ-WQRw",
        "outputId": "9b5a2f8d-92ea-4520-e81e-2ab83b94f70e",
        "colab": {
          "base_uri": "https://localhost:8080/"
        }
      },
      "execution_count": 9,
      "outputs": [
        {
          "output_type": "stream",
          "name": "stdout",
          "text": [
            "{'Título1': 'Bloodborne', 'Ano': 2015, 'Console': 'Playstation 4'}\n"
          ]
        }
      ]
    },
    {
      "cell_type": "code",
      "source": [],
      "metadata": {
        "id": "kMX7lbzEYBSD"
      },
      "execution_count": null,
      "outputs": []
    },
    {
      "cell_type": "markdown",
      "source": [
        "## Exercício 002\n",
        "Faça um programa que leia nome e média de um aluno, guardando também\n",
        "a situação em um dicionário. No final, mostre o conteúdo na tela.\n",
        "Lembre-se: Média >= 7 Aprovado ; 5 <= Média < 7 ou Recuperação ; Média\n",
        "< 5 Reprovado ;"
      ],
      "metadata": {
        "id": "MFMhBVPFa7jM"
      }
    },
    {
      "cell_type": "markdown",
      "source": [
        "## Exercício 003\n",
        "O código Morse é um esquema de codificação que usa traços e pontos para\n",
        "representar números e letras. Neste exercício, você escreverá um programa que\n",
        "usa um dicionário para armazenar o mapeamento de letras e números para o\n",
        "código Morse. Use um ponto para representar um ponto e um hífen para\n",
        "representar um traço. O mapeamento de letras e números para traços e pontos é\n",
        "mostrado na Tabela.\n",
        "Seu programa deve ler uma mensagem do usuário. Em seguida, deve traduzir\n",
        "para código Morse, deixando um espaço entre cada sequência de traços e\n",
        "pontos. Seu programa deve ignorar quaisquer caracteres que não sejam letras\n",
        "ou números. O código Morse para Hello, World! é mostrado abaixo:\n",
        "\n",
        ".... . .-.. .-.. --- .-- --- .-. .-.. -.."
      ],
      "metadata": {
        "id": "vF4QbZbDbCbK"
      }
    },
    {
      "cell_type": "markdown",
      "source": [],
      "metadata": {
        "id": "lLIkB74aa6_l"
      }
    }
  ]
}