{
  "cells": [
    {
      "cell_type": "markdown",
      "metadata": {
        "colab_type": "text",
        "id": "view-in-github"
      },
      "source": [
        "<a href=\"https://colab.research.google.com/github/Erick-Bryan-Cubas/Desenvolvimento_Rapido_Em_Python/blob/main/aulas/aula_02_py.ipynb\" target=\"_parent\"><img src=\"https://colab.research.google.com/assets/colab-badge.svg\" alt=\"Open In Colab\"/></a>"
      ]
    },
    {
      "cell_type": "markdown",
      "metadata": {
        "id": "VfVkDn9vMEGp"
      },
      "source": [
        "# Desenvolvimento Rápido Em Python\n",
        "\n",
        "## Aula 02 - Dicionários\n",
        "\n",
        "_Dicionários_ são um conjunto de dados compostos. Com item, sendo um par de **chave** e **valor**.\n",
        "\n"
      ]
    },
    {
      "cell_type": "code",
      "execution_count": 3,
      "metadata": {
        "colab": {
          "base_uri": "https://localhost:8080/"
        },
        "id": "RXiZeAJ_L3Gw",
        "outputId": "dcc231dd-c963-4e3b-b4f4-b912891ece58"
      },
      "outputs": [
        {
          "name": "stdout",
          "output_type": "stream",
          "text": [
            "dict_values(['João', 15])\n",
            "dict_keys(['nome', 'Idade'])\n",
            "dict_items([('nome', 'João'), ('Idade', 15)])\n"
          ]
        }
      ],
      "source": [
        "# Mostrar valores\n",
        "dados = {\"nome\": \"João\", \"Idade\":15}\n",
        "print(dados.values())\n",
        "\n",
        "# Mostrar chaves\n",
        "dados = {\"nome\": \"João\", \"Idade\":15}\n",
        "print(dados.keys())\n",
        "\n",
        "# Mostrar itens\n",
        "dados = {\"nome\": \"João\", \"Idade\":15}\n",
        "print(dados.items())\n"
      ]
    },
    {
      "cell_type": "code",
      "execution_count": 5,
      "metadata": {
        "colab": {
          "base_uri": "https://localhost:8080/"
        },
        "id": "GF9pwkCFVOEU",
        "outputId": "e2a867df-84ae-479b-cf12-fcf4aa4157bc"
      },
      "outputs": [
        {
          "name": "stdout",
          "output_type": "stream",
          "text": [
            "nome é João\n",
            "Idade é 15\n",
            "curso é ADS\n"
          ]
        }
      ],
      "source": [
        "dados = {\"nome\": \"João\", \"Idade\":15, \"curso\":\"ADS\"}\n",
        "for k, v in dados.items():\n",
        "  print(f\"{k} é {v}\")"
      ]
    },
    {
      "cell_type": "markdown",
      "metadata": {
        "id": "HLg4y7onWH2x"
      },
      "source": [
        "### Dicionários dentro de listas\n"
      ]
    },
    {
      "cell_type": "code",
      "execution_count": 1,
      "metadata": {
        "colab": {
          "base_uri": "https://localhost:8080/"
        },
        "id": "2SMqscZ-WQRw",
        "outputId": "9b5a2f8d-92ea-4520-e81e-2ab83b94f70e"
      },
      "outputs": [
        {
          "name": "stdout",
          "output_type": "stream",
          "text": [
            "{'Título': 'Bloodborne', 'Ano': 2015, 'Console': 'Playstation 4'}\n",
            "{'Título': 'God of War', 'Ano': 2018, 'Console': 'Playstation 4'}\n",
            "{'Título': 'The last of Us', 'Ano': 2013, 'Console': 'Playstation 3'}\n",
            "{'Título': 'Super Mário World', 'Ano': 1990, 'Console': 'Super Nitendo'}\n"
          ]
        }
      ],
      "source": [
        "jogo1 = {\"Título1\":\"Bloodborne\", \"Ano\":2015, \"Console\":\"Playstation 4\"}\n",
        "jogo1 = {\"Título\":\"Bloodborne\", \"Ano\": 2015, \"Console\":\"Playstation 4\"}\n",
        "jogo2 = {\"Título\":\"God of War\", \"Ano\": 2018, \"Console\":\"Playstation 4\"}\n",
        "jogo3 = {\"Título\":\"The last of Us\", \"Ano\": 2013, \"Console\":\"Playstation 3\"}\n",
        "jogo4 = {\"Título\":\"Super Mário World\", \"Ano\": 1990, \"Console\":\"Super Nitendo\"}\n",
        "\n",
        "\n",
        "locadora = []\n",
        "locadora.append(jogo1)\n",
        "locadora.append(jogo2)\n",
        "locadora.append(jogo3)\n",
        "locadora.append(jogo4)\n",
        "\n",
        "for i in locadora:\n",
        "  print(i)"
      ]
    },
    {
      "cell_type": "code",
      "execution_count": null,
      "metadata": {
        "id": "kMX7lbzEYBSD"
      },
      "outputs": [],
      "source": []
    },
    {
      "cell_type": "markdown",
      "metadata": {
        "id": "MFMhBVPFa7jM"
      },
      "source": [
        "## Exercício 002\n",
        "Faça um programa que leia nome e média de um aluno, guardando também\n",
        "a situação em um dicionário. No final, mostre o conteúdo na tela.\n",
        "Lembre-se: Média >= 7 Aprovado ; 5 <= Média < 7 ou Recuperação ; Média\n",
        "< 5 Reprovado ;"
      ]
    },
    {
      "cell_type": "markdown",
      "metadata": {
        "id": "vF4QbZbDbCbK"
      },
      "source": [
        "## Exercício 003\n",
        "O código Morse é um esquema de codificação que usa traços e pontos para\n",
        "representar números e letras. Neste exercício, você escreverá um programa que\n",
        "usa um dicionário para armazenar o mapeamento de letras e números para o\n",
        "código Morse. Use um ponto para representar um ponto e um hífen para\n",
        "representar um traço. O mapeamento de letras e números para traços e pontos é\n",
        "mostrado na Tabela.\n",
        "Seu programa deve ler uma mensagem do usuário. Em seguida, deve traduzir\n",
        "para código Morse, deixando um espaço entre cada sequência de traços e\n",
        "pontos. Seu programa deve ignorar quaisquer caracteres que não sejam letras\n",
        "ou números. O código Morse para Hello, World! é mostrado abaixo:\n",
        "\n",
        ".... . .-.. .-.. --- .-- --- .-. .-.. -.."
      ]
    },
    {
      "cell_type": "markdown",
      "metadata": {
        "id": "lLIkB74aa6_l"
      },
      "source": []
    }
  ],
  "metadata": {
    "colab": {
      "authorship_tag": "ABX9TyOG6HbXTxHjSC/lD19lACCC",
      "include_colab_link": true,
      "provenance": []
    },
    "kernelspec": {
      "display_name": "Python 3",
      "name": "python3"
    },
    "language_info": {
      "codemirror_mode": {
        "name": "ipython",
        "version": 3
      },
      "file_extension": ".py",
      "mimetype": "text/x-python",
      "name": "python",
      "nbconvert_exporter": "python",
      "pygments_lexer": "ipython3",
      "version": "3.11.5"
    }
  },
  "nbformat": 4,
  "nbformat_minor": 0
}
