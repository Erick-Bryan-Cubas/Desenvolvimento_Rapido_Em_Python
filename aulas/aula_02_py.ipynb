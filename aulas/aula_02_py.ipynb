{
  "nbformat": 4,
  "nbformat_minor": 0,
  "metadata": {
    "colab": {
      "provenance": [],
      "authorship_tag": "ABX9TyMVgTUCHtWlY5Jxs3CtmF5b",
      "include_colab_link": true
    },
    "kernelspec": {
      "name": "python3",
      "display_name": "Python 3"
    },
    "language_info": {
      "name": "python"
    }
  },
  "cells": [
    {
      "cell_type": "markdown",
      "metadata": {
        "id": "view-in-github",
        "colab_type": "text"
      },
      "source": [
        "<a href=\"https://colab.research.google.com/github/Erick-Bryan-Cubas/Desenvolvimento_Rapido_Em_Python/blob/main/aulas/aula_02_py.ipynb\" target=\"_parent\"><img src=\"https://colab.research.google.com/assets/colab-badge.svg\" alt=\"Open In Colab\"/></a>"
      ]
    },
    {
      "cell_type": "markdown",
      "source": [
        "# Desenvolvimento Rápido Em Python\n",
        "\n",
        "## Aula 02 - Dicionários\n",
        "\n",
        "_Dicionários_ são um conjunto de dados compostos. Com item, sendo um par de **chave** e **valor**.\n",
        "\n"
      ],
      "metadata": {
        "id": "VfVkDn9vMEGp"
      }
    },
    {
      "cell_type": "code",
      "execution_count": null,
      "metadata": {
        "id": "RXiZeAJ_L3Gw"
      },
      "outputs": [],
      "source": [
        "dados = {\"nome\": \"João\", \"Idade\":15}"
      ]
    }
  ]
}