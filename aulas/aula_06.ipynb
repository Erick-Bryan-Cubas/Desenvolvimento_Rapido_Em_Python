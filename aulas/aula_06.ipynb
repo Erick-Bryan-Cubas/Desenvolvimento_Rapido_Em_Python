{
 "cells": [
  {
   "cell_type": "code",
   "execution_count": 2,
   "metadata": {},
   "outputs": [
    {
     "data": {
      "text/plain": [
       "0"
      ]
     },
     "execution_count": 2,
     "metadata": {},
     "output_type": "execute_result"
    }
   ],
   "source": [
    "import wx\n",
    "# Criando a aplicação de um objeto\n",
    "app = wx.App()\n",
    "# Criando uma tela\n",
    "frame = wx.Frame(parent=None, title='Primeira tela')\n",
    "# Adicionando um texto a tela\n",
    "text = wx.StaticText(parent=frame, label='Hello, World')\n",
    "# Mostrando a tela\n",
    "frame.Show()\n",
    "# Execultando a a função principal\n",
    "app.MainLoop()"
   ]
  },
  {
   "cell_type": "code",
   "execution_count": 1,
   "metadata": {},
   "outputs": [
    {
     "data": {
      "text/plain": [
       "0"
      ]
     },
     "execution_count": 1,
     "metadata": {},
     "output_type": "execute_result"
    }
   ],
   "source": [
    "# Trabalhando com classes\n",
    "import wx\n",
    "class MainApp(wx.App):\n",
    "    def OnInit(self):\n",
    "        frame = wx.Frame(parent=None, title='Primeira tela')\n",
    "        text = wx.StaticText(parent=frame, label='Hello, World')\n",
    "        frame.Show()\n",
    "        return True\n",
    "app = MainApp()\n",
    "app.MainLoop()"
   ]
  },
  {
   "cell_type": "code",
   "execution_count": null,
   "metadata": {},
   "outputs": [
    {
     "ename": "",
     "evalue": "",
     "output_type": "error",
     "traceback": [
      "\u001b[1;31mO Kernel falhou ao executar o código na célula atual ou em uma célula anterior. Examine o código nas células para identificar uma possível causa da falha. Clique <a href=\"https://aka.ms/vscodeJupyterKernelCrash\">aqui</a> para obter mais informações. Consulte o <a href='command:jupyter.viewOutput'>log</a> do Jupyter para obter mais detalhes."
     ]
    }
   ],
   "source": [
    "# Trabalhando com cores e tamanhos\n",
    "import wx\n",
    "class SampleFrame(wx.Frame):\n",
    "    def __init__(self):\n",
    "        super().__init__(parent=None, title='Cores e Tamanhos', size=(300, 300))\n",
    "        self.panel1 = wx.Panel(self)\n",
    "        self.panel1.SetSize(300, 100)\n",
    "        self.panel1.SetBackgroundColour(wx.Colour(0, 0, 255))\n",
    "        self.panel2 = wx.Panel(self)\n",
    "        self.panel2.SetSize(1, 110, 300, 100)\n",
    "        self.panel2.SetBackgroundColour(wx.Colour(255, 0, 0))\n",
    "class MainApp(wx.App):\n",
    "    def OnInit(self):\n",
    "        frame = SampleFrame()\n",
    "        frame.Show()\n",
    "        return True\n",
    "app = MainApp()\n",
    "app.MainLoop()"
   ]
  },
  {
   "cell_type": "code",
   "execution_count": null,
   "metadata": {},
   "outputs": [],
   "source": []
  }
 ],
 "metadata": {
  "kernelspec": {
   "display_name": "Python 3",
   "language": "python",
   "name": "python3"
  },
  "language_info": {
   "codemirror_mode": {
    "name": "ipython",
    "version": 3
   },
   "file_extension": ".py",
   "mimetype": "text/x-python",
   "name": "python",
   "nbconvert_exporter": "python",
   "pygments_lexer": "ipython3",
   "version": "3.11.5"
  },
  "orig_nbformat": 4
 },
 "nbformat": 4,
 "nbformat_minor": 2
}
