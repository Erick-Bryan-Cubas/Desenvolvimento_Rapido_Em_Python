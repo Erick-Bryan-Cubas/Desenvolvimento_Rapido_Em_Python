{
 "cells": [
  {
   "cell_type": "markdown",
   "metadata": {},
   "source": [
    "# Ler e Escrever em Arquivos\n",
    "\n",
    "arquivo = open(nome_arquivo, modo_acesso)"
   ]
  },
  {
   "cell_type": "code",
   "execution_count": 1,
   "metadata": {},
   "outputs": [
    {
     "name": "stdout",
     "output_type": "stream",
     "text": [
      "Hello, World!"
     ]
    }
   ],
   "source": [
    "## Ler\n",
    "arquivo = open('teste.rtf', 'r')\n",
    "linhas = arquivo.readlines()\n",
    "for linha in linhas:\n",
    "    print(linha, end='')\n",
    "arquivo.close()"
   ]
  },
  {
   "cell_type": "code",
   "execution_count": 4,
   "metadata": {},
   "outputs": [
    {
     "name": "stdout",
     "output_type": "stream",
     "text": [
      "Escrevendo em arquivos\n"
     ]
    }
   ],
   "source": [
    "## Escrever\n",
    "print('Escrevendo em arquivos')\n",
    "f = open('novo_teste.rtf', 'w')\n",
    "f.write('Escrevendo em arquivos\\n')\n",
    "f.write('w vem do ingles write\\n')\n",
    "f.close()"
   ]
  },
  {
   "cell_type": "code",
   "execution_count": 5,
   "metadata": {},
   "outputs": [
    {
     "name": "stdout",
     "output_type": "stream",
     "text": [
      "Criando uma nova pasta\n",
      "Checando se a pasta existe\n",
      "novaPasta.exists():  False\n",
      "Criando a pasta\n",
      "novaPasta.exists():  True\n"
     ]
    }
   ],
   "source": [
    "## Criando uma nova pasta\n",
    "from pathlib import Path\n",
    "\n",
    "pasta = Path.cwd()\n",
    "print('Criando uma nova pasta')\n",
    "novaPasta = pasta / 'teste'\n",
    "print('Checando se a pasta existe')\n",
    "print('novaPasta.exists(): ', novaPasta.exists())\n",
    "print('Criando a pasta')\n",
    "novaPasta.mkdir()\n",
    "print('novaPasta.exists(): ', novaPasta.exists())"
   ]
  },
  {
   "cell_type": "code",
   "execution_count": 6,
   "metadata": {},
   "outputs": [
    {
     "name": "stdout",
     "output_type": "stream",
     "text": [
      "Criando um novo arquivo em uma nova pasta\n"
     ]
    },
    {
     "data": {
      "text/plain": [
       "11"
      ]
     },
     "execution_count": 6,
     "metadata": {},
     "output_type": "execute_result"
    }
   ],
   "source": [
    "## Criando um novo arquivo em uma nova pasta\n",
    "\n",
    "from pathlib import Path\n",
    "\n",
    "pasta = Path('./teste')\n",
    "print('Criando um novo arquivo em uma nova pasta')\n",
    "novoArquivo = pasta / 'novoArquivo.txt'\n",
    "novoArquivo.write_text('Hello World')"
   ]
  },
  {
   "cell_type": "markdown",
   "metadata": {},
   "source": [
    "### Exercício 6\n",
    "ESCREVA UM PROGRAMA QUE CRIA UM RELATÓRIO DE USUÁRIO. SEU\n",
    "PROGRAMA DEVE RECEBER DADOS DO USUÁRIO E ARMAZENAR EM UM NOVO\n",
    "ARQUIVO COM O NOME DO USUÁRIO. ESSE ARQUIVO DEVE SER SALVO EM UMA\n",
    "PASTA COM A DATA DO DIA.\n",
    "\n",
    "DADOS:\n",
    "NOME\n",
    "IDADE\n",
    "PROFISSÃO\n",
    "FRASE DO DIA"
   ]
  }
 ],
 "metadata": {
  "kernelspec": {
   "display_name": "Python 3",
   "language": "python",
   "name": "python3"
  },
  "language_info": {
   "codemirror_mode": {
    "name": "ipython",
    "version": 3
   },
   "file_extension": ".py",
   "mimetype": "text/x-python",
   "name": "python",
   "nbconvert_exporter": "python",
   "pygments_lexer": "ipython3",
   "version": "3.11.5"
  },
  "orig_nbformat": 4
 },
 "nbformat": 4,
 "nbformat_minor": 2
}
