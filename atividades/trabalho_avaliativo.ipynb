{
 "cells": [
  {
   "cell_type": "markdown",
   "metadata": {},
   "source": [
    "# Trabalho Avaliativo\n",
    "Baseado na aula anterior e no seu vasto conhecimento na linguagem Python, desenvolva uma GUI com os seguintes critérios:\n",
    "    - Receber nome e data de nascimento,\n",
    "    - Botão enviar,\n",
    "    - Ao enviar, deve aparecer uma mensagem personalizada:\n",
    "        \"Olá João, você tem 19 anos. Parabéns, você é maior de idade.\""
   ]
  },
  {
   "cell_type": "code",
   "execution_count": 1,
   "metadata": {},
   "outputs": [],
   "source": [
    "import wx\n",
    "from datetime import datetime\n",
    "\n",
    "class MyFrame(wx.Frame):\n",
    "    def __init__(self):\n",
    "        super().__init__(parent=None, title='Idade Checker', size=(400, 300))\n",
    "        \n",
    "        self.panel = wx.Panel(self)\n",
    "        self.sizer = wx.BoxSizer(wx.VERTICAL)\n",
    "\n",
    "        self.name_label = wx.StaticText(self.panel, label='Nome:')\n",
    "        self.sizer.Add(self.name_label, 0, wx.ALL | wx.EXPAND, 5)\n",
    "        self.name_text = wx.TextCtrl(self.panel)\n",
    "        self.sizer.Add(self.name_text, 0, wx.ALL | wx.EXPAND, 5)\n",
    "\n",
    "        self.dob_label = wx.StaticText(self.panel, label='Data de Nascimento (YYYY-MM-DD):')\n",
    "        self.sizer.Add(self.dob_label, 0, wx.ALL | wx.EXPAND, 5)\n",
    "        self.dob_text = wx.TextCtrl(self.panel)\n",
    "        self.sizer.Add(self.dob_text, 0, wx.ALL | wx.EXPAND, 5)\n",
    "\n",
    "        self.button = wx.Button(self.panel, label='Enviar')\n",
    "        self.button.Bind(wx.EVT_BUTTON, self.on_press)\n",
    "        self.sizer.Add(self.button, 0, wx.ALL | wx.CENTER, 5)\n",
    "\n",
    "        self.panel.SetSizer(self.sizer)\n",
    "        self.Show()\n",
    "\n",
    "    def on_press(self, event):\n",
    "        name = self.name_text.GetValue()\n",
    "        dob_str = self.dob_text.GetValue()\n",
    "        \n",
    "        try:\n",
    "            dob = datetime.strptime(dob_str, '%Y-%m-%d').date()\n",
    "            age = (datetime.today().date() - dob).days // 365\n",
    "            message = f\"Olá {name}, você tem {age} anos.\"\n",
    "            if age >= 18:\n",
    "                message += \" Parabéns, você é maior de idade.\"\n",
    "            else:\n",
    "                message += \" Desculpe, você é menor de idade.\"\n",
    "            wx.MessageBox(message, 'Resultado', wx.OK | wx.ICON_INFORMATION)\n",
    "        except ValueError:\n",
    "            wx.MessageBox('Data de nascimento inválida!', 'Erro', wx.OK | wx.ICON_ERROR)\n",
    "\n",
    "if __name__ == '__main__':\n",
    "    app = wx.App(False)\n",
    "    frame = MyFrame()\n",
    "    app.MainLoop()\n"
   ]
  }
 ],
 "metadata": {
  "kernelspec": {
   "display_name": "Python 3",
   "language": "python",
   "name": "python3"
  },
  "language_info": {
   "codemirror_mode": {
    "name": "ipython",
    "version": 3
   },
   "file_extension": ".py",
   "mimetype": "text/x-python",
   "name": "python",
   "nbconvert_exporter": "python",
   "pygments_lexer": "ipython3",
   "version": "3.11.5"
  },
  "orig_nbformat": 4
 },
 "nbformat": 4,
 "nbformat_minor": 2
}
