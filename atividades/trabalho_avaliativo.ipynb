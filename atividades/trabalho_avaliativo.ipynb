{
 "cells": [
  {
   "cell_type": "markdown",
   "metadata": {},
   "source": [
    "# Trabalho Avaliativo\n",
    "Baseado na aula anterior e no seu vasto conhecimento na linguagem Python, desenvolva uma GUI com os seguintes critérios:\n",
    "- Receber nome e data de nascimento\n",
    "- Botão enviar \n",
    "- Ao enviar, deve aparecer uma mensagem personalizada:\n",
    "    \"Olá João, você tem 19 anos. Parabéns, você é maior de idade\""
   ]
  }
 ],
 "metadata": {
  "language_info": {
   "name": "python"
  },
  "orig_nbformat": 4
 },
 "nbformat": 4,
 "nbformat_minor": 2
}
